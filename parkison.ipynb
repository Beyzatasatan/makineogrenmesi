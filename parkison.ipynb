{
 "cells": [
  {
   "cell_type": "code",
   "execution_count": 293,
   "id": "9dc1a345-e87c-4368-ade2-94b004278076",
   "metadata": {},
   "outputs": [],
   "source": [
    "import pandas as pd\n",
    "from sklearn.model_selection import train_test_split\n",
    "from sklearn.preprocessing import StandardScaler\n",
    "from sklearn.linear_model import LogisticRegression\n",
    "from sklearn.ensemble import RandomForestClassifier, VotingClassifier\n",
    "from sklearn.naive_bayes import GaussianNB\n",
    "from sklearn.tree import DecisionTreeClassifier\n",
    "from sklearn.neighbors import KNeighborsClassifier\n",
    "from sklearn.svm import SVC\n",
    "from sklearn.metrics import accuracy_score\n",
    "import matplotlib.pyplot as plt"
   ]
  },
  {
   "cell_type": "code",
   "execution_count": 294,
   "id": "3e0711b2-6033-470b-843a-8ea0a3029a19",
   "metadata": {},
   "outputs": [
    {
     "name": "stdout",
     "output_type": "stream",
     "text": [
      "<class 'pandas.core.frame.DataFrame'>\n",
      "RangeIndex: 756 entries, 0 to 755\n",
      "Columns: 755 entries, id to class\n",
      "dtypes: float64(749), int64(6)\n",
      "memory usage: 4.4 MB\n"
     ]
    }
   ],
   "source": [
    "file_path = 'C:\\\\Users\\\\LENOVO\\\\OneDrive\\\\Documentos\\\\makineogrenmesi\\\\Parkison_Dataset.csv'\n",
    "data = pd.read_csv(file_path)\n",
    "\n",
    "data.info()"
   ]
  },
  {
   "cell_type": "code",
   "execution_count": 295,
   "id": "a2dd9abf-e8cb-4761-a576-d8f6e43ab591",
   "metadata": {},
   "outputs": [],
   "source": [
    "X = data.drop(columns=[ 'class'])\n",
    "y = data['class']"
   ]
  },
  {
   "cell_type": "code",
   "execution_count": 296,
   "id": "e8481dec-c7f3-4617-9ff3-04580103203b",
   "metadata": {},
   "outputs": [
    {
     "name": "stdout",
     "output_type": "stream",
     "text": [
      "   id  gender      PPE      DFA     RPDE  numPulses  numPeriodsPulses  \\\n",
      "0   0       1  0.85247  0.71826  0.57227        240               239   \n",
      "1   0       1  0.76686  0.69481  0.53966        234               233   \n",
      "2   0       1  0.85083  0.67604  0.58982        232               231   \n",
      "3   1       0  0.41121  0.79672  0.59257        178               177   \n",
      "4   1       0  0.32790  0.79782  0.53028        236               235   \n",
      "\n",
      "   meanPeriodPulses  stdDevPeriodPulses  locPctJitter  ...  \\\n",
      "0          0.008064            0.000087       0.00218  ...   \n",
      "1          0.008258            0.000073       0.00195  ...   \n",
      "2          0.008340            0.000060       0.00176  ...   \n",
      "3          0.010858            0.000183       0.00419  ...   \n",
      "4          0.008162            0.002669       0.00535  ...   \n",
      "\n",
      "   tqwt_kurtosisValue_dec_28  tqwt_kurtosisValue_dec_29  \\\n",
      "0                     1.5620                     2.6445   \n",
      "1                     1.5589                     3.6107   \n",
      "2                     1.5643                     2.3308   \n",
      "3                     3.7805                     3.5664   \n",
      "4                     6.1727                     5.8416   \n",
      "\n",
      "   tqwt_kurtosisValue_dec_30  tqwt_kurtosisValue_dec_31  \\\n",
      "0                     3.8686                     4.2105   \n",
      "1                    23.5155                    14.1962   \n",
      "2                     9.4959                    10.7458   \n",
      "3                     5.2558                    14.0403   \n",
      "4                     6.0805                     5.7621   \n",
      "\n",
      "   tqwt_kurtosisValue_dec_32  tqwt_kurtosisValue_dec_33  \\\n",
      "0                     5.1221                     4.4625   \n",
      "1                    11.0261                     9.5082   \n",
      "2                    11.0177                     4.8066   \n",
      "3                     4.2235                     4.6857   \n",
      "4                     7.7817                    11.6891   \n",
      "\n",
      "   tqwt_kurtosisValue_dec_34  tqwt_kurtosisValue_dec_35  \\\n",
      "0                     2.6202                     3.0004   \n",
      "1                     6.5245                     6.3431   \n",
      "2                     2.9199                     3.1495   \n",
      "3                     4.8460                     6.2650   \n",
      "4                     8.2103                     5.0559   \n",
      "\n",
      "   tqwt_kurtosisValue_dec_36  class  \n",
      "0                    18.9405      1  \n",
      "1                    45.1780      1  \n",
      "2                     4.7666      1  \n",
      "3                     4.0603      1  \n",
      "4                     6.1164      1  \n",
      "\n",
      "[5 rows x 755 columns]\n",
      "Index(['id', 'gender', 'PPE', 'DFA', 'RPDE', 'numPulses', 'numPeriodsPulses',\n",
      "       'meanPeriodPulses', 'stdDevPeriodPulses', 'locPctJitter',\n",
      "       ...\n",
      "       'tqwt_kurtosisValue_dec_28', 'tqwt_kurtosisValue_dec_29',\n",
      "       'tqwt_kurtosisValue_dec_30', 'tqwt_kurtosisValue_dec_31',\n",
      "       'tqwt_kurtosisValue_dec_32', 'tqwt_kurtosisValue_dec_33',\n",
      "       'tqwt_kurtosisValue_dec_34', 'tqwt_kurtosisValue_dec_35',\n",
      "       'tqwt_kurtosisValue_dec_36', 'class'],\n",
      "      dtype='object', length=755)\n"
     ]
    }
   ],
   "source": [
    "\n",
    "print(data.head())\n",
    "\n",
    "\n",
    "print(data.columns)"
   ]
  },
  {
   "cell_type": "code",
   "execution_count": 297,
   "id": "5b67aeb6-1f1a-453c-900a-7243c8991b70",
   "metadata": {},
   "outputs": [],
   "source": [
    "X_train, X_test, y_train, y_test = train_test_split(X, y, test_size=0.2, random_state=42)\n",
    "scaler = StandardScaler()\n",
    "X_train = scaler.fit_transform(X_train)\n",
    "X_test = scaler.transform(X_test)"
   ]
  },
  {
   "cell_type": "code",
   "execution_count": 315,
   "id": "e269620e-9812-4d57-aeb8-865681287491",
   "metadata": {},
   "outputs": [
    {
     "data": {
      "text/plain": [
       "{'Logistic Regression': LogisticRegression(max_iter=500, random_state=42),\n",
       " 'Random Forest': RandomForestClassifier(random_state=42),\n",
       " 'Naive Bayes': GaussianNB(),\n",
       " 'Decision Tree': DecisionTreeClassifier(random_state=42),\n",
       " 'KNN': KNeighborsClassifier(n_neighbors=3),\n",
       " 'SVM': SVC(C=0.3, random_state=42)}"
      ]
     },
     "execution_count": 315,
     "metadata": {},
     "output_type": "execute_result"
    }
   ],
   "source": [
    "models = {\n",
    "    'Logistic Regression': LogisticRegression(max_iter=500, random_state=42),\n",
    "    'Random Forest': RandomForestClassifier(random_state=42),\n",
    "    'Naive Bayes': GaussianNB(),\n",
    "    'Decision Tree': DecisionTreeClassifier(random_state=42),\n",
    "    'KNN': KNeighborsClassifier(n_neighbors=3),\n",
    "    'SVM': SVC(random_state=42,C=0.3,kernel='rbf')\n",
    "}\n",
    "models"
   ]
  },
  {
   "cell_type": "code",
   "execution_count": 299,
   "id": "159d1b8f-c2a2-4109-aea0-48e0f934be57",
   "metadata": {},
   "outputs": [
    {
     "data": {
      "text/plain": [
       "0.8026315789473685"
      ]
     },
     "execution_count": 299,
     "metadata": {},
     "output_type": "execute_result"
    }
   ],
   "source": [
    "accuracy_results = {}\n",
    "for name, model in models.items():\n",
    "    model.fit(X_train, y_train)\n",
    "    y_pred = model.predict(X_test)\n",
    "    accuracy = accuracy_score(y_test, y_pred)\n",
    "    accuracy_results[name] = accuracy\n",
    "accuracy"
   ]
  },
  {
   "cell_type": "code",
   "execution_count": 300,
   "id": "4b7ae1a3-2526-4912-81a4-5b7935d9bac1",
   "metadata": {},
   "outputs": [],
   "source": [
    "ensemble_model = VotingClassifier(estimators=[(name, model) for name, model in models.items()], voting='hard')\n",
    "ensemble_model.fit(X_train, y_train)\n",
    "ensemble_pred = ensemble_model.predict(X_test)\n",
    "ensemble_accuracy = accuracy_score(y_test, ensemble_pred)\n",
    "accuracy_results['Ensemble'] = ensemble_accuracy"
   ]
  },
  {
   "cell_type": "code",
   "execution_count": 301,
   "id": "132e2004-edf8-47d0-bdcf-53fe59be8311",
   "metadata": {},
   "outputs": [
    {
     "data": {
      "image/png": "[encoded data removed]",
      "text/plain": [
       "<Figure size 1000x600 with 1 Axes>"
      ]
     },
     "metadata": {},
     "output_type": "display_data"
    },
    {
     "name": "stdout",
     "output_type": "stream",
     "text": [
      "{'Logistic Regression': 0.8618421052631579, 'Random Forest': 0.875, 'Naive Bayes': 0.8026315789473685, 'Decision Tree': 0.7697368421052632, 'KNN': 0.9276315789473685, 'SVM': 0.8026315789473685, 'Ensemble': 0.9013157894736842}\n"
     ]
    }
   ],
   "source": [
    "plt.figure(figsize=(10, 6))\n",
    "plt.barh(list(accuracy_results.keys()), list(accuracy_results.values()), color=['skyblue','pink','black','orange','red','yellow'])\n",
    "plt.xlabel('Accuracy')\n",
    "plt.title('Model Accuracy Comparison')\n",
    "plt.xlim(0, 1)\n",
    "plt.show()\n",
    "\n",
    "\n",
    "print(accuracy_results)\n"
   ]
  },
  {
   "cell_type": "code",
   "execution_count": 302,
   "id": "55dc8371-b3da-417f-ac9d-a018fb6b6994",
   "metadata": {},
   "outputs": [
    {
     "name": "stdout",
     "output_type": "stream",
     "text": [
      "Requirement already satisfied: xgboost in c:\\users\\lenovo\\anaconda3\\lib\\site-packages (2.0.3)\n",
      "Requirement already satisfied: numpy in c:\\users\\lenovo\\anaconda3\\lib\\site-packages (from xgboost) (1.26.4)\n",
      "Requirement already satisfied: scipy in c:\\users\\lenovo\\anaconda3\\lib\\site-packages (from xgboost) (1.13.1)\n",
      "XGBoost Accuracy: 0.90\n"
     ]
    }
   ],
   "source": [
    "!pip install xgboost\n",
    "from xgboost import XGBClassifier\n",
    "\n",
    "xgb_model = XGBClassifier(random_state=42)\n",
    "xgb_model.fit(X_train, y_train)\n",
    "y_pred = xgb_model.predict(X_test)\n",
    "accuracy = accuracy_score(y_test, y_pred)\n",
    "print(f'XGBoost Accuracy: {accuracy:.2f}')"
   ]
  },
  {
   "cell_type": "code",
   "execution_count": null,
   "id": "0d1604e4-cc49-48a6-be0c-2119d295f722",
   "metadata": {},
   "outputs": [],
   "source": []
  },
  {
   "cell_type": "code",
   "execution_count": null,
   "id": "679b3712-7de2-4a4d-b50d-d10438b22398",
   "metadata": {},
   "outputs": [],
   "source": []
  }
 ],
 "metadata": {
  "kernelspec": {
   "display_name": "Python 3 (ipykernel)",
   "language": "python",
   "name": "python3"
  },
  "language_info": {
   "codemirror_mode": {
    "name": "ipython",
    "version": 3
   },
   "file_extension": ".py",
   "mimetype": "text/x-python",
   "name": "python",
   "nbconvert_exporter": "python",
   "pygments_lexer": "ipython3",
   "version": "3.12.4"
  }
 },
 "nbformat": 4,
 "nbformat_minor": 5
}
