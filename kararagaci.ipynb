{
 "cells": [
  {
   "cell_type": "code",
   "execution_count": 28,
   "id": "b5dd42a2-ee76-45a9-b73b-e0a08ccfdfc5",
   "metadata": {},
   "outputs": [],
   "source": [
    "import numpy as np\n",
    "import pandas as pd\n",
    "from sklearn.metrics import confusion_matrix\n",
    "from sklearn.model_selection import train_test_split\n",
    "from sklearn import tree\n",
    "from sklearn.metrics import accuracy_score\n",
    "from sklearn.metrics import classification_report"
   ]
  },
  {
   "cell_type": "code",
   "execution_count": 29,
   "id": "89667666-50ce-45f0-af70-fac3c70a80ed",
   "metadata": {},
   "outputs": [],
   "source": [
    "def importdata():\n",
    "    balance_data=pd.read_csv('https://archive.ics.uci.edu/ml/machine-learning-databases/balance-scale/balance-scale.data ',sep=',',header=None)\n",
    "    print('dataset uzunluk',len(balance_data))\n",
    "    print('dataset boyutu',balance_data.shape)\n",
    "    print('dataset',balance_data.head())\n",
    "    return balance_data"
   ]
  },
  {
   "cell_type": "code",
   "execution_count": 30,
   "id": "777cdf74-6711-42b5-8f63-15ebad07f47d",
   "metadata": {},
   "outputs": [],
   "source": [
    "def splitdataset(balance_data):\n",
    "    X=balance_data.values[:,1:5]\n",
    "    Y=balance_data.values[:,0]\n",
    "    X_train,X_test,y_train,y_test=train_test_split(X,Y,test_size=0.3,random_state=123)\n",
    "    return X,Y,X_train,X_test,y_train,y_test"
   ]
  },
  {
   "cell_type": "code",
   "execution_count": 31,
   "id": "42d35b57-f755-4c61-8b68-781f0248f040",
   "metadata": {},
   "outputs": [],
   "source": [
    "def train_using_gini(X_train,X_test,y_train):\n",
    "    clf_gini=tree.DecisionTreeClassifier(criterion=\"gini\",random_state=100,max_depth=3,min_samples_leaf=5)\n",
    "    clf_gini.fit(X_train,y_train)\n",
    "    print(\"gini karar ağacı\")\n",
    "    tree.plot_tree(clf_gini)\n",
    "    return clf_gini\n"
   ]
  },
  {
   "cell_type": "code",
   "execution_count": 32,
   "id": "817cdfa0-f54d-45bb-9588-71002903a9c2",
   "metadata": {},
   "outputs": [],
   "source": [
    "def train_using_entropy(X_train,X_test,y_train):\n",
    "    clf_entropy=tree.DecisionTreeClassifier(criterion=\"entropy\",random_state=100,max_depth=3,min_samples_leaf=5)\n",
    "    clf_entropy.fit(X_train,y_train)\n",
    "    print(\"entropy karar ağacı\")\n",
    "    tree.plot_tree(clf_entropy)\n",
    "    return clf_entropy\n"
   ]
  },
  {
   "cell_type": "code",
   "execution_count": 33,
   "id": "2b3dd907-3f23-4452-ba26-6a0abee2f464",
   "metadata": {},
   "outputs": [],
   "source": [
    "def prediction(X_test,clf_object):\n",
    "    y_pred=clf_object.predict(X_test)\n",
    "    print(\"prediccted values:\")\n",
    "    print(y_pred)\n",
    "    return y_pred"
   ]
  },
  {
   "cell_type": "code",
   "execution_count": 34,
   "id": "f7d9660f-e609-4552-be74-6a31cdfa543c",
   "metadata": {},
   "outputs": [],
   "source": [
    "def cal_accuracy(y_test,y_pred):\n",
    "    print(\"confusion matrix:\",confusion_matrix(y_test,y_pred))\n",
    "    print(\"accuracy:\",accuracy_score(y_test,y_pred)*100)\n",
    "    print(\"report:\",classification_report(y_test,y_pred))"
   ]
  },
  {
   "cell_type": "code",
   "execution_count": 35,
   "id": "c8be980c-a468-4377-835a-730f1491972b",
   "metadata": {},
   "outputs": [
    {
     "name": "stdout",
     "output_type": "stream",
     "text": [
      "dataset uzunluk 625\n",
      "dataset boyutu (625, 5)\n",
      "dataset    0  1  2  3  4\n",
      "0  B  1  1  1  1\n",
      "1  R  1  1  1  2\n",
      "2  R  1  1  1  3\n",
      "3  R  1  1  1  4\n",
      "4  R  1  1  1  5\n",
      "gini karar ağacı\n",
      "entropy karar ağacı\n",
      "results using gini index:\n",
      "prediccted values:\n",
      "['R' 'L' 'R' 'R' 'R' 'L' 'L' 'R' 'R' 'L' 'L' 'L' 'L' 'L' 'R' 'R' 'L' 'R'\n",
      " 'R' 'R' 'L' 'R' 'L' 'R' 'L' 'R' 'L' 'L' 'R' 'R' 'L' 'R' 'R' 'R' 'R' 'R'\n",
      " 'L' 'R' 'L' 'L' 'R' 'L' 'L' 'L' 'L' 'L' 'R' 'L' 'R' 'L' 'L' 'R' 'L' 'R'\n",
      " 'L' 'R' 'R' 'R' 'R' 'L' 'L' 'L' 'R' 'R' 'R' 'L' 'L' 'L' 'R' 'R' 'L' 'L'\n",
      " 'R' 'L' 'R' 'L' 'L' 'L' 'L' 'R' 'R' 'R' 'L' 'L' 'L' 'R' 'R' 'R' 'L' 'R'\n",
      " 'R' 'L' 'L' 'R' 'L' 'L' 'R' 'R' 'R' 'L' 'R' 'L' 'L' 'L' 'L' 'L' 'R' 'L'\n",
      " 'L' 'L' 'L' 'L' 'R' 'L' 'L' 'L' 'L' 'L' 'R' 'R' 'L' 'L' 'L' 'R' 'R' 'R'\n",
      " 'R' 'R' 'R' 'L' 'L' 'R' 'L' 'R' 'L' 'L' 'R' 'L' 'L' 'L' 'R' 'R' 'R' 'R'\n",
      " 'R' 'R' 'L' 'L' 'R' 'L' 'R' 'R' 'R' 'L' 'L' 'L' 'L' 'R' 'L' 'L' 'L' 'L'\n",
      " 'L' 'L' 'R' 'L' 'R' 'R' 'R' 'L' 'L' 'R' 'R' 'L' 'R' 'R' 'L' 'R' 'R' 'R'\n",
      " 'R' 'L' 'R' 'L' 'L' 'L' 'L' 'R']\n",
      "confusion matrix: [[ 0 10  5]\n",
      " [ 0 66 15]\n",
      " [ 0 23 69]]\n",
      "accuracy: 71.80851063829788\n",
      "report:               precision    recall  f1-score   support\n",
      "\n",
      "           B       0.00      0.00      0.00        15\n",
      "           L       0.67      0.81      0.73        81\n",
      "           R       0.78      0.75      0.76        92\n",
      "\n",
      "    accuracy                           0.72       188\n",
      "   macro avg       0.48      0.52      0.50       188\n",
      "weighted avg       0.67      0.72      0.69       188\n",
      "\n",
      "results using entropy index:\n",
      "prediccted values:\n",
      "['R' 'L' 'R' 'R' 'R' 'L' 'L' 'R' 'R' 'L' 'L' 'L' 'L' 'L' 'R' 'R' 'L' 'R'\n",
      " 'R' 'R' 'L' 'R' 'L' 'R' 'L' 'R' 'L' 'L' 'R' 'R' 'L' 'R' 'R' 'R' 'R' 'R'\n",
      " 'L' 'R' 'L' 'L' 'R' 'L' 'L' 'L' 'L' 'L' 'R' 'R' 'R' 'L' 'L' 'R' 'L' 'R'\n",
      " 'L' 'R' 'R' 'R' 'R' 'L' 'L' 'L' 'R' 'R' 'R' 'R' 'L' 'L' 'R' 'R' 'L' 'R'\n",
      " 'R' 'L' 'R' 'L' 'L' 'L' 'L' 'R' 'R' 'R' 'L' 'L' 'L' 'R' 'R' 'R' 'R' 'R'\n",
      " 'R' 'L' 'L' 'R' 'L' 'L' 'R' 'R' 'R' 'L' 'R' 'L' 'L' 'L' 'L' 'L' 'R' 'L'\n",
      " 'L' 'L' 'L' 'L' 'R' 'L' 'L' 'L' 'L' 'L' 'R' 'R' 'L' 'L' 'L' 'R' 'R' 'R'\n",
      " 'R' 'R' 'R' 'L' 'L' 'R' 'L' 'R' 'L' 'L' 'R' 'L' 'L' 'L' 'R' 'R' 'R' 'R'\n",
      " 'R' 'R' 'R' 'L' 'R' 'L' 'R' 'R' 'R' 'L' 'L' 'R' 'L' 'R' 'L' 'L' 'L' 'R'\n",
      " 'L' 'L' 'R' 'L' 'R' 'R' 'R' 'L' 'L' 'R' 'R' 'L' 'R' 'R' 'L' 'R' 'R' 'R'\n",
      " 'R' 'L' 'R' 'L' 'L' 'L' 'L' 'R']\n",
      "confusion matrix: [[ 0  9  6]\n",
      " [ 0 63 18]\n",
      " [ 0 20 72]]\n",
      "accuracy: 71.80851063829788\n",
      "report:               precision    recall  f1-score   support\n",
      "\n",
      "           B       0.00      0.00      0.00        15\n",
      "           L       0.68      0.78      0.73        81\n",
      "           R       0.75      0.78      0.77        92\n",
      "\n",
      "    accuracy                           0.72       188\n",
      "   macro avg       0.48      0.52      0.50       188\n",
      "weighted avg       0.66      0.72      0.69       188\n",
      "\n"
     ]
    },
    {
     "name": "stderr",
     "output_type": "stream",
     "text": [
      "C:\\Users\\LENOVO\\anaconda3\\Lib\\site-packages\\sklearn\\metrics\\_classification.py:1509: UndefinedMetricWarning: Precision is ill-defined and being set to 0.0 in labels with no predicted samples. Use `zero_division` parameter to control this behavior.\n",
      "  _warn_prf(average, modifier, f\"{metric.capitalize()} is\", len(result))\n",
      "C:\\Users\\LENOVO\\anaconda3\\Lib\\site-packages\\sklearn\\metrics\\_classification.py:1509: UndefinedMetricWarning: Precision is ill-defined and being set to 0.0 in labels with no predicted samples. Use `zero_division` parameter to control this behavior.\n",
      "  _warn_prf(average, modifier, f\"{metric.capitalize()} is\", len(result))\n",
      "C:\\Users\\LENOVO\\anaconda3\\Lib\\site-packages\\sklearn\\metrics\\_classification.py:1509: UndefinedMetricWarning: Precision is ill-defined and being set to 0.0 in labels with no predicted samples. Use `zero_division` parameter to control this behavior.\n",
      "  _warn_prf(average, modifier, f\"{metric.capitalize()} is\", len(result))\n",
      "C:\\Users\\LENOVO\\anaconda3\\Lib\\site-packages\\sklearn\\metrics\\_classification.py:1509: UndefinedMetricWarning: Precision is ill-defined and being set to 0.0 in labels with no predicted samples. Use `zero_division` parameter to control this behavior.\n",
      "  _warn_prf(average, modifier, f\"{metric.capitalize()} is\", len(result))\n",
      "C:\\Users\\LENOVO\\anaconda3\\Lib\\site-packages\\sklearn\\metrics\\_classification.py:1509: UndefinedMetricWarning: Precision is ill-defined and being set to 0.0 in labels with no predicted samples. Use `zero_division` parameter to control this behavior.\n",
      "  _warn_prf(average, modifier, f\"{metric.capitalize()} is\", len(result))\n",
      "C:\\Users\\LENOVO\\anaconda3\\Lib\\site-packages\\sklearn\\metrics\\_classification.py:1509: UndefinedMetricWarning: Precision is ill-defined and being set to 0.0 in labels with no predicted samples. Use `zero_division` parameter to control this behavior.\n",
      "  _warn_prf(average, modifier, f\"{metric.capitalize()} is\", len(result))\n"
     ]
    },
    {
     "data": {
      "image/png": "[encoded data removed]",
      "text/plain": [
       "<Figure size 640x480 with 1 Axes>"
      ]
     },
     "metadata": {},
     "output_type": "display_data"
    }
   ],
   "source": [
    "data=importdata()\n",
    "X,Y,X_train,X_test,y_train,y_test=splitdataset(data)\n",
    "clf_gini=train_using_gini(X_train,X_test,y_train)\n",
    "clf_entropy=train_using_entropy(X_train,X_test,y_train)\n",
    "print(\"results using gini index:\")\n",
    "y_pred_gini=prediction(X_test,clf_gini)\n",
    "cal_accuracy(y_test,y_pred_gini)\n",
    "print(\"results using entropy index:\")\n",
    "y_pred_entropy=prediction(X_test,clf_entropy)\n",
    "cal_accuracy(y_test,y_pred_entropy)"
   ]
  },
  {
   "cell_type": "code",
   "execution_count": 51,
   "id": "4cf814f5-7b61-4128-a469-d5a1c99e114c",
   "metadata": {},
   "outputs": [
    {
     "name": "stdout",
     "output_type": "stream",
     "text": [
      "<class 'pandas.core.frame.DataFrame'>\n",
      "RangeIndex: 625 entries, 0 to 624\n",
      "Data columns (total 5 columns):\n",
      " #   Column  Non-Null Count  Dtype \n",
      "---  ------  --------------  ----- \n",
      " 0   0       625 non-null    object\n",
      " 1   1       625 non-null    int64 \n",
      " 2   2       625 non-null    int64 \n",
      " 3   3       625 non-null    int64 \n",
      " 4   4       625 non-null    int64 \n",
      "dtypes: int64(4), object(1)\n",
      "memory usage: 24.5+ KB\n"
     ]
    }
   ],
   "source": [
    "data.info()"
   ]
  },
  {
   "cell_type": "code",
   "execution_count": 59,
   "id": "e6982dae-9f7c-4136-a69e-d42e42d69ea3",
   "metadata": {},
   "outputs": [
    {
     "name": "stdout",
     "output_type": "stream",
     "text": [
      "0\n",
      "R    288\n",
      "L    288\n",
      "B     49\n",
      "Name: count, dtype: int64\n"
     ]
    }
   ],
   "source": [
    "farkli = data[0].value_counts()\n",
    "print(farkli)"
   ]
  },
  {
   "cell_type": "code",
   "execution_count": 74,
   "id": "221d850e-e315-4f5d-b3af-2be5318467c6",
   "metadata": {},
   "outputs": [
    {
     "name": "stdout",
     "output_type": "stream",
     "text": [
      "Requirement already satisfied: graphviz in c:\\users\\lenovo\\anaconda3\\lib\\site-packages (0.20.3)\n"
     ]
    },
    {
     "data": {
      "text/plain": [
       "'balace.pdf'"
      ]
     },
     "execution_count": 74,
     "metadata": {},
     "output_type": "execute_result"
    }
   ],
   "source": [
    "!pip install graphviz\n",
    "import graphviz\n",
    "dot_data=tree.export_graphviz(clf_gini,out_file=None)\n",
    "graph=graphviz.Source(dot_data)\n",
    "graph.render(\"balace\")"
   ]
  },
  {
   "cell_type": "code",
   "execution_count": null,
   "id": "a7ee3614-2c8f-48b0-bb33-17175b4ee282",
   "metadata": {},
   "outputs": [],
   "source": []
  }
 ],
 "metadata": {
  "kernelspec": {
   "display_name": "Python 3 (ipykernel)",
   "language": "python",
   "name": "python3"
  },
  "language_info": {
   "codemirror_mode": {
    "name": "ipython",
    "version": 3
   },
   "file_extension": ".py",
   "mimetype": "text/x-python",
   "name": "python",
   "nbconvert_exporter": "python",
   "pygments_lexer": "ipython3",
   "version": "3.12.4"
  }
 },
 "nbformat": 4,
 "nbformat_minor": 5
}
