{
 "cells": [
  {
   "cell_type": "code",
   "execution_count": 3,
   "id": "165770a5-e0a1-4400-a149-43765ef6450c",
   "metadata": {},
   "outputs": [
    {
     "data": {
      "text/html": [
       "<div>\n",
       "<style scoped>\n",
       "    .dataframe tbody tr th:only-of-type {\n",
       "        vertical-align: middle;\n",
       "    }\n",
       "\n",
       "    .dataframe tbody tr th {\n",
       "        vertical-align: top;\n",
       "    }\n",
       "\n",
       "    .dataframe thead th {\n",
       "        text-align: right;\n",
       "    }\n",
       "</style>\n",
       "<table border=\"1\" class=\"dataframe\">\n",
       "  <thead>\n",
       "    <tr style=\"text-align: right;\">\n",
       "      <th></th>\n",
       "      <th>ad</th>\n",
       "      <th>yas</th>\n",
       "      <th>şehir</th>\n",
       "    </tr>\n",
       "  </thead>\n",
       "  <tbody>\n",
       "    <tr>\n",
       "      <th>0</th>\n",
       "      <td>ali</td>\n",
       "      <td>25</td>\n",
       "      <td>ankara</td>\n",
       "    </tr>\n",
       "    <tr>\n",
       "      <th>1</th>\n",
       "      <td>veli</td>\n",
       "      <td>30</td>\n",
       "      <td>istanbul</td>\n",
       "    </tr>\n",
       "    <tr>\n",
       "      <th>2</th>\n",
       "      <td>ayşe</td>\n",
       "      <td>22</td>\n",
       "      <td>izmir</td>\n",
       "    </tr>\n",
       "    <tr>\n",
       "      <th>3</th>\n",
       "      <td>fatma</td>\n",
       "      <td>35</td>\n",
       "      <td>bursa</td>\n",
       "    </tr>\n",
       "  </tbody>\n",
       "</table>\n",
       "</div>"
      ],
      "text/plain": [
       "      ad  yas     şehir\n",
       "0    ali   25    ankara\n",
       "1   veli   30  istanbul\n",
       "2   ayşe   22     izmir\n",
       "3  fatma   35     bursa"
      ]
     },
     "execution_count": 3,
     "metadata": {},
     "output_type": "execute_result"
    }
   ],
   "source": [
    "import pandas as pd\n",
    "data={\n",
    "    \"ad\":[\"ali\",\"veli\",\"ayşe\",\"fatma\"],\n",
    "    \"yas\":[25,30,22,35],\n",
    "    \"şehir\":[\"ankara\",\"istanbul\",\"izmir\",\"bursa\"]\n",
    "}\n",
    "df=pd.DataFrame(data)\n",
    "df"
   ]
  },
  {
   "cell_type": "code",
   "execution_count": 9,
   "id": "79cadd12-2b7a-4bfa-b197-ae55c3094e1b",
   "metadata": {},
   "outputs": [],
   "source": [
    "#df=pd.read_csv(\"\")\n",
    "#print(df.head())"
   ]
  },
  {
   "cell_type": "code",
   "execution_count": 7,
   "id": "e5b6a71f-e5f4-4511-ad3b-260aed608384",
   "metadata": {},
   "outputs": [],
   "source": [
    "#import pandas as pd\n",
    "#df=pd.read_excel(\"\")\n",
    "#print(df.head())"
   ]
  },
  {
   "cell_type": "code",
   "execution_count": 9,
   "id": "5bf6e880-84d1-41ed-bda7-8a9ef86255d0",
   "metadata": {},
   "outputs": [
    {
     "name": "stdout",
     "output_type": "stream",
     "text": [
      "      ad     şehir\n",
      "0    ali    ankara\n",
      "1   veli  istanbul\n",
      "2   ayşe     izmir\n",
      "3  fatma     bursa\n"
     ]
    }
   ],
   "source": [
    "import pandas as pd\n",
    "data={\n",
    "    \"ad\":[\"ali\",\"veli\",\"ayşe\",\"fatma\"],\n",
    "    \"yas\":[25,30,22,35],\n",
    "    \"şehir\":[\"ankara\",\"istanbul\",\"izmir\",\"bursa\"]\n",
    "}\n",
    "df=pd.DataFrame(data)\n",
    "print(df[[\"ad\",\"şehir\"]])"
   ]
  },
  {
   "cell_type": "code",
   "execution_count": 49,
   "id": "ed0e96cf-3106-4fd4-9605-e93dd122bb6f",
   "metadata": {},
   "outputs": [
    {
     "name": "stdout",
     "output_type": "stream",
     "text": [
      "ad          ali\n",
      "yas          25\n",
      "şehir    ankara\n",
      "Name: 0, dtype: object\n",
      "*****\n",
      "     ad  yas     şehir\n",
      "0   ali   25    ankara\n",
      "1  veli   30  istanbul\n",
      "2  ayşe   22     izmir\n"
     ]
    }
   ],
   "source": [
    "import pandas as pd\n",
    "data={\n",
    "    \"ad\":[\"ali\",\"veli\",\"ayşe\",\"fatma\"],\n",
    "    \"yas\":[25,30,22,35],\n",
    "    \"şehir\":[\"ankara\",\"istanbul\",\"izmir\",\"bursa\"]\n",
    "}\n",
    "df=pd.DataFrame(data)\n",
    "print(df.iloc[0])\n",
    "print(\"*****\")\n",
    "print(df.iloc[0:3])"
   ]
  },
  {
   "cell_type": "code",
   "execution_count": 13,
   "id": "0827d1ee-00b6-4eed-8294-f3195991733d",
   "metadata": {},
   "outputs": [
    {
     "name": "stdout",
     "output_type": "stream",
     "text": [
      "      ad  yas     şehir\n",
      "1   veli   30  istanbul\n",
      "3  fatma   35     bursa\n",
      "*****\n"
     ]
    }
   ],
   "source": [
    "yass=df[df[\"yas\"]>25]\n",
    "print(yass)\n",
    "print(\"*****\")"
   ]
  },
  {
   "cell_type": "code",
   "execution_count": 15,
   "id": "0534af65-ea31-410e-a97c-0875979f97d2",
   "metadata": {},
   "outputs": [
    {
     "name": "stdout",
     "output_type": "stream",
     "text": [
      "    ad  yas   şehir\n",
      "0  ali   25  ankara\n",
      "*****\n"
     ]
    }
   ],
   "source": [
    "y=df[df[\"şehir\"]==\"ankara\"]\n",
    "print(y)\n",
    "print(\"*****\")"
   ]
  },
  {
   "cell_type": "code",
   "execution_count": 19,
   "id": "60e66ce8-330d-41a9-b390-90480f057a2b",
   "metadata": {},
   "outputs": [
    {
     "name": "stdout",
     "output_type": "stream",
     "text": [
      "      ad  yas     şehir\n",
      "0    ali   25    ankara\n",
      "1   veli   30  istanbul\n",
      "2   ayşe   22     izmir\n",
      "3  fatma   35     bursa\n",
      "      ad  yas     şehir\n",
      "0    ali   88    ankara\n",
      "1   veli   30  istanbul\n",
      "2   ayşe   22     izmir\n",
      "3  fatma   35     bursa\n"
     ]
    }
   ],
   "source": [
    "print(df)\n",
    "df.loc[0,\"yas\"]=88\n",
    "print(df)"
   ]
  },
  {
   "cell_type": "raw",
   "id": "1e50edd8-59c6-4573-b3ad-2e5dacc8f425",
   "metadata": {},
   "source": [
    "4.gün"
   ]
  },
  {
   "cell_type": "code",
   "execution_count": 59,
   "id": "37a63026-986c-4cd1-bb68-ca99aea223e3",
   "metadata": {},
   "outputs": [
    {
     "name": "stdout",
     "output_type": "stream",
     "text": [
      "      ad  yas     şehir    meslek\n",
      "1   veli   30  istanbul  muhendis\n",
      "2   ayşe   22     izmir    doktor\n",
      "3  fatma   35     bursa  ogretmen\n",
      "4  fatma   23     izmir     mimar\n",
      "      ad  yas     şehir    meslek   gelir\n",
      "1   veli   30  istanbul  muhendis   50000\n",
      "2   ayşe   22     izmir    doktor   80000\n",
      "3  fatma   35     bursa  ogretmen  500000\n",
      "4  fatma   23     izmir     mimar   40000\n"
     ]
    }
   ],
   "source": [
    "df[\"meslek\"]=[\"muhendis\",\"doktor\",\"ogretmen\",\"mimar\"]\n",
    "print(df)\n",
    "df[\"gelir\"]=[\"50000\",\"80000\",\"500000\",\"40000\"]\n",
    "print(df)"
   ]
  },
  {
   "cell_type": "code",
   "execution_count": 61,
   "id": "18e7522c-5822-48fb-b430-9722ffe2b279",
   "metadata": {},
   "outputs": [
    {
     "name": "stdout",
     "output_type": "stream",
     "text": [
      "      ad  yas     şehir    meslek\n",
      "1   veli   30  istanbul  muhendis\n",
      "2   ayşe   22     izmir    doktor\n",
      "3  fatma   35     bursa  ogretmen\n",
      "4  fatma   23     izmir     mimar\n"
     ]
    }
   ],
   "source": [
    "df=df.drop(columns=[\"gelir\"])\n",
    "print(df)#sutun silmek"
   ]
  },
  {
   "cell_type": "code",
   "execution_count": 51,
   "id": "cdc11098-82a2-497f-a529-0e00a5bd17bc",
   "metadata": {},
   "outputs": [
    {
     "name": "stdout",
     "output_type": "stream",
     "text": [
      "      ad  yas     şehir\n",
      "1   veli   30  istanbul\n",
      "2   ayşe   22     izmir\n",
      "3  fatma   35     bursa\n"
     ]
    }
   ],
   "source": [
    "df=df.drop(index=[0])\n",
    "print(df)#satır silmek"
   ]
  },
  {
   "cell_type": "code",
   "execution_count": 95,
   "id": "82475e8d-02e4-4a16-b60b-d528fe680588",
   "metadata": {},
   "outputs": [
    {
     "name": "stdout",
     "output_type": "stream",
     "text": [
      "             yas\n",
      "count   5.000000\n",
      "mean   26.600000\n",
      "std     5.683309\n",
      "min    22.000000\n",
      "25%    23.000000\n",
      "50%    23.000000\n",
      "75%    30.000000\n",
      "max    35.000000\n"
     ]
    }
   ],
   "source": [
    "print(df.describe())#temel istatiksel özet\n",
    "#print(df.mean())#ortalam değerler\n",
    "#print(df[\"yas\"].mean())#yaş sutunun ortalaması"
   ]
  },
  {
   "cell_type": "code",
   "execution_count": 65,
   "id": "4510d3e3-3ff2-42ac-ade3-53177dee2cd2",
   "metadata": {},
   "outputs": [
    {
     "name": "stdout",
     "output_type": "stream",
     "text": [
      "      ad  yas     şehir    meslek\n",
      "1   veli   30  istanbul  muhendis\n",
      "2   ayşe   22     izmir    doktor\n",
      "3  fatma   35     bursa  ogretmen\n",
      "4  fatma   23     izmir     mimar\n",
      "      ad  yas     şehir    meslek\n",
      "1   veli   30  istanbul  muhendis\n",
      "2   ayşe   22     izmir    doktor\n",
      "3  fatma   35     bursa  ogretmen\n",
      "4  fatma   23     izmir     mimar\n",
      "5  fatma   23     izmir     pilot\n"
     ]
    }
   ],
   "source": [
    "print(df)\n",
    "df.loc[len(df.index)+1]=[\"fatma\",23,\"izmir\",\"pilot\"]\n",
    "print(df)"
   ]
  },
  {
   "cell_type": "code",
   "execution_count": 93,
   "id": "842ab58e-e5ed-4e35-ae6d-a47e94fadff7",
   "metadata": {},
   "outputs": [
    {
     "name": "stdout",
     "output_type": "stream",
     "text": [
      "şehir\n",
      "bursa       1\n",
      "istanbul    1\n",
      "izmir       3\n",
      "dtype: int64\n",
      "<class 'pandas.core.series.Series'>\n"
     ]
    }
   ],
   "source": [
    "g=df.groupby(\"şehir\").size()\n",
    "print(g)\n",
    "print(type(g))"
   ]
  },
  {
   "cell_type": "code",
   "execution_count": 83,
   "id": "cb9f4e85-c348-4cb5-9b2d-636d8ebb70c3",
   "metadata": {},
   "outputs": [
    {
     "data": {
      "image/png": "[encoded data removed]",
      "text/plain": [
       "<Figure size 640x480 with 1 Axes>"
      ]
     },
     "metadata": {},
     "output_type": "display_data"
    },
    {
     "data": {
      "image/png": "[encoded data removed]",
      "text/plain": [
       "<Figure size 640x480 with 1 Axes>"
      ]
     },
     "metadata": {},
     "output_type": "display_data"
    }
   ],
   "source": [
    "import matplotlib.pyplot as plt\n",
    "df[\"yas\"].plot(kind=\"hist\",bins=10,title=\"yas dağılımı\")\n",
    "plt.xlabel(\"yas\")\n",
    "plt.ylabel(\"frekans\")\n",
    "plt.show()\n",
    "df.groupby(\"şehir\")[\"yas\"].mean().plot(kind=\"bar\",title=\"şehirlere göre dağılım\")\n",
    "plt.xlabel(\"şehir\")\n",
    "plt.ylabel(\"ortalama yas\")\n",
    "plt.show()"
   ]
  },
  {
   "cell_type": "code",
   "execution_count": 99,
   "id": "e28dd0c6-fa1e-446f-abb9-3bd12edeb305",
   "metadata": {},
   "outputs": [
    {
     "name": "stdout",
     "output_type": "stream",
     "text": [
      "  anahtar  deger_x  deger_y\n",
      "0      k1        1        4\n",
      "1      k2        2        5\n"
     ]
    }
   ],
   "source": [
    "data1={\"anahtar\":[\"k1\",\"k2\",\"k3\"],\"deger\":[1,2,3]}\n",
    "data2={\"anahtar\":[\"k1\",\"k2\",\"k4\"],\"deger\":[4,5,6]}\n",
    "df1=pd.DataFrame(data1)\n",
    "df2=pd.DataFrame(data2)\n",
    "birlestir=pd.merge(df1,df2,on=\"anahtar\",how=\"inner\")#innerjoin\n",
    "print(birlestir)"
   ]
  },
  {
   "cell_type": "code",
   "execution_count": 97,
   "id": "32a24077-0a5d-47d9-b56c-ed2ee1aaef4f",
   "metadata": {},
   "outputs": [
    {
     "name": "stdout",
     "output_type": "stream",
     "text": [
      "  anahtar  deger\n",
      "0      k1      1\n",
      "1      k2      2\n",
      "2      k3      3\n",
      "0      k1      4\n",
      "1      k2      5\n",
      "2      k4      6\n",
      "  anahtar  deger anahtar  deger\n",
      "0      k1      1      k1      4\n",
      "1      k2      2      k2      5\n",
      "2      k3      3      k4      6\n"
     ]
    }
   ],
   "source": [
    "df3=pd.concat([df1,df2],axis=0)#alt alta getirir\n",
    "print(df3)\n",
    "df4=pd.concat([df1,df2],axis=1)#yan yana getirir\n",
    "print(df4)"
   ]
  },
  {
   "cell_type": "code",
   "execution_count": 107,
   "id": "dff3c0c8-a819-45cc-91dd-6dcf5cdc77f1",
   "metadata": {},
   "outputs": [],
   "source": [
    "df.to_excel(\"C:\\\\Users\\\\LENOVO\\\\Documents\\\\makineogrenmesi\\\\cikti1.xlsx\",index=False)"
   ]
  },
  {
   "cell_type": "code",
   "execution_count": 121,
   "id": "e95e72fe-9d12-4e95-bf98-eb879bf8b78b",
   "metadata": {},
   "outputs": [
    {
     "name": "stdout",
     "output_type": "stream",
     "text": [
      "     isim  arasinav  odev  final\n",
      "0     ali         5    68     55\n",
      "1   ahmet        54    44     64\n",
      "2  mehmet        12    87     77\n",
      "3    veli        22    74     88\n",
      "4    arda        15    68    100\n",
      "5   doruk        87    70     90\n",
      "     isim  arasinav  odev  final  ortalama\n",
      "0     ali         5    68     55     45.75\n",
      "1   ahmet        54    44     64     56.50\n",
      "2  mehmet        12    87     77     63.25\n",
      "3    veli        22    74     88     68.00\n",
      "4    arda        15    68    100     70.75\n",
      "5   doruk        87    70     90     84.25\n"
     ]
    }
   ],
   "source": [
    "import pandas as ben\n",
    "veri={\n",
    "    \"isim\":[\"ali\",\"ahmet\",\"mehmet\",\"veli\",\"arda\",\"doruk\"],\n",
    "    \"arasinav\":[5,54,12,22,15,87],\n",
    "    \"odev\":[68,44,87,74,68,70],\n",
    "    \"final\":[55,64,77,88,100,90]\n",
    "}\n",
    "df=ben.DataFrame(veri)\n",
    "print(df)\n",
    "a=ben.DataFrame(veri,columns=[\"isim\",\"arasinav\",\"odev\",\"final\",\"ortalama\"])\n",
    "a[\"ortalama\"]=a[\"arasinav\"]*0.25+a[\"odev\"]*0.25+a[\"final\"]*0.50\n",
    "print(a)"
   ]
  },
  {
   "cell_type": "code",
   "execution_count": 138,
   "id": "3e38a205-c142-4076-a2f6-1f434ea1898b",
   "metadata": {},
   "outputs": [
    {
     "name": "stdout",
     "output_type": "stream",
     "text": [
      "musteri excel'i\n",
      "   MüşteriID     Ad   Soyad     Şehir\n",
      "0          1    Ali  Yılmaz  İstanbul\n",
      "1          2   Veli     Can    Ankara\n",
      "2          3   Ayşe   Demir     İzmir\n",
      "3          4  Fatma    Kaya     Bursa\n",
      "satıs excel'i\n",
      "   SatışID  MüşteriID  ÜrünAdı  Miktar  BirimFiyat\n",
      "0      101          1   Laptop       1        5000\n",
      "1      102          2  Telefon       2        3000\n",
      "2      103          1   Tablet       1        1500\n",
      "3      104          3   Laptop       1        4500\n",
      "4      105          2  Telefon       1        3000\n",
      "tablo birleştir\n",
      "   MüşteriID     Ad   Soyad     Şehir  SatışID   ÜrünAdı  Miktar  BirimFiyat\n",
      "0          1    Ali  Yılmaz  İstanbul      101    Laptop       1        5000\n",
      "1          1    Ali  Yılmaz  İstanbul      103    Tablet       1        1500\n",
      "2          2   Veli     Can    Ankara      102   Telefon       2        3000\n",
      "3          2   Veli     Can    Ankara      105   Telefon       1        3000\n",
      "4          3   Ayşe   Demir     İzmir      104    Laptop       1        4500\n",
      "5          4  Fatma    Kaya     Bursa      106  Kulaklık       5         200\n",
      "miktar* birim fiyati\n",
      "   MüşteriID     Ad   Soyad     Şehir  SatışId   ÜrünAdı  Miktar  BirimFiyat  \\\n",
      "0          1    Ali  Yılmaz  İstanbul      NaN    Laptop       1        5000   \n",
      "1          1    Ali  Yılmaz  İstanbul      NaN    Tablet       1        1500   \n",
      "2          2   Veli     Can    Ankara      NaN   Telefon       2        3000   \n",
      "3          2   Veli     Can    Ankara      NaN   Telefon       1        3000   \n",
      "4          3   Ayşe   Demir     İzmir      NaN    Laptop       1        4500   \n",
      "5          4  Fatma    Kaya     Bursa      NaN  Kulaklık       5         200   \n",
      "\n",
      "   ToplamHarcama  \n",
      "0           5000  \n",
      "1           1500  \n",
      "2           6000  \n",
      "3           3000  \n",
      "4           4500  \n",
      "5           1000  \n",
      "id göre harcama\n",
      "   MüşteriID  ToplamHarcama\n",
      "0          1           6500\n",
      "1          2           9000\n",
      "2          3           4500\n",
      "3          4           1000\n"
     ]
    }
   ],
   "source": [
    "import pandas as pd\n",
    "df1=pd.read_excel(\"C:\\\\Users\\\\LENOVO\\\\Documents\\\\makineogrenmesi\\\\musteriler.xlsx\")\n",
    "df2=pd.read_excel(\"C:\\\\Users\\\\LENOVO\\\\Documents\\\\makineogrenmesi\\\\satislar.xlsx\")\n",
    "birlestir=pd.merge(df1,df2,on=\"MüşteriID\",how=\"inner\")#innerjoin\n",
    "a=pd.DataFrame(birlestir,columns=[\"MüşteriID\",\"Ad\",\"Soyad\",\"Şehir\",\"SatışId\",\"ÜrünAdı\",\"Miktar\",\"BirimFiyat\",\"ToplamHarcama\"])\n",
    "a[\"ToplamHarcama\"]=a[\"Miktar\"]*+a[\"BirimFiyat\"]\n",
    "harcama=a.groupby(\"MüşteriID\")[\"ToplamHarcama\"].sum().reset_index()\n",
    "print(\"musteri excel'i\")\n",
    "print(df1.head())\n",
    "print(\"satıs excel'i\")\n",
    "print(df2.head())\n",
    "print(\"tablo birleştir\")\n",
    "print(birlestir)\n",
    "print(\"miktar* birim fiyati\")\n",
    "print(a)\n",
    "print(\"id göre harcama\")\n",
    "print(harcama)"
   ]
  },
  {
   "cell_type": "code",
   "execution_count": 144,
   "id": "4b9a1673-74f4-476e-85ec-3c4f21aa2c7b",
   "metadata": {},
   "outputs": [
    {
     "data": {
      "image/png": "[encoded data removed]",
      "text/plain": [
       "<Figure size 640x480 with 1 Axes>"
      ]
     },
     "metadata": {},
     "output_type": "display_data"
    }
   ],
   "source": [
    "import matplotlib.pyplot as plt\n",
    "year=[1972,1982,1992,2002,2012]\n",
    "e_india=[100.6,158.61,305.54,394.96,724.79]\n",
    "e_bagladesh=[10.5,25.21,58.65,119.27,274.87]\n",
    "plt.plot(year,e_india,color=\"orange\",marker=\"o\",markersize=12,label=\"india\")\n",
    "plt.plot(year,e_bagladesh,color=\"g\",linestyle=\"dashed\",linewidth=2,label=\"india\")\n",
    "plt.xlabel(\"years\")\n",
    "plt.ylabel(\"power consumption in kwh\")\n",
    "plt.title(\"electricity consumption\")\n",
    "plt.legend()\n",
    "plt.show()"
   ]
  },
  {
   "cell_type": "code",
   "execution_count": null,
   "id": "010d2087-b507-4b76-96d4-bc9451275362",
   "metadata": {},
   "outputs": [],
   "source": []
  }
 ],
 "metadata": {
  "kernelspec": {
   "display_name": "Python 3 (ipykernel)",
   "language": "python",
   "name": "python3"
  },
  "language_info": {
   "codemirror_mode": {
    "name": "ipython",
    "version": 3
   },
   "file_extension": ".py",
   "mimetype": "text/x-python",
   "name": "python",
   "nbconvert_exporter": "python",
   "pygments_lexer": "ipython3",
   "version": "3.12.4"
  }
 },
 "nbformat": 4,
 "nbformat_minor": 5
}
