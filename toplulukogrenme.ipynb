{
 "cells": [
  {
   "cell_type": "code",
   "execution_count": 80,
   "id": "7898f7bd-571a-47b7-b9c0-6ff15392f798",
   "metadata": {},
   "outputs": [],
   "source": [
    "from sklearn import datasets\n",
    "from sklearn.model_selection import cross_val_score\n",
    "from sklearn.linear_model import LogisticRegression\n",
    "from sklearn.naive_bayes import  GaussianNB\n",
    "from sklearn.ensemble import VotingClassifier\n",
    "from sklearn.ensemble import RandomForestClassifier\n",
    "import warnings\n",
    "warnings.filterwarnings('ignore')\n",
    "iris=datasets.load_iris()\n",
    "X,y=iris.data[:,1:3],iris.target\n",
    "clf1=LogisticRegression(random_state=1)\n",
    "clf2=RandomForestClassifier(n_estimators=50,random_state=1)\n",
    "clf3=GaussianNB()\n",
    "eclf=VotingClassifier(estimators=[('lr',clf1),('rf',clf2),('gnb',clf3)],voting='hard')\n"
   ]
  },
  {
   "cell_type": "code",
   "execution_count": 93,
   "id": "a3c9912b-2409-431b-b16d-5d11aedf0547",
   "metadata": {},
   "outputs": [
    {
     "name": "stdout",
     "output_type": "stream",
     "text": [
      "accuracy 0.91 (+/- 0.03) [lojistik]\n",
      "accuracy 0.93 (+/- 0.02) [random forest]\n",
      "accuracy 0.81 (+/- 0.03) [naive bayes]\n",
      "accuracy 0.92 (+/- 0.03) [ensemble]\n"
     ]
    }
   ],
   "source": [
    "clf1=clf1.fit(X,y)\n",
    "clf2=clf2.fit(X,y)\n",
    "clf3=clf3.fit(X,y)\n",
    "for clf,label in zip([clf1,clf2,clf3,eclf],['lojistik','random forest','naive bayes','ensemble']):\n",
    "    scores=cross_val_score(clf,X,y,scoring='accuracy',cv=5)\n",
    "    print('accuracy %0.2f (+/- %0.2f) [%s]'%(scores.mean(),scores.std(),label))"
   ]
  },
  {
   "cell_type": "code",
   "execution_count": 82,
   "id": "4ac22efc-bf9b-457c-85bf-ac2696fd54f9",
   "metadata": {},
   "outputs": [],
   "source": [
    "from sklearn.tree import DecisionTreeClassifier\n",
    "from sklearn.neighbors import KNeighborsClassifier  # KNeighborsClassifier doğru şekilde import edildi\n",
    "from sklearn.svm import SVC\n",
    "from itertools import product\n",
    "\n",
    "clf4=DecisionTreeClassifier(max_depth=4)\n",
    "clf5=KNeighborsClassifier(n_neighbors=7)\n",
    "clf6=SVC(kernel='rbf',probability=True)\n",
    "eeclf=VotingClassifier(estimators=[('lr',clf4),('rf',clf5),('gnb',clf6)],voting='hard',weights=[2,1,2])"
   ]
  },
  {
   "cell_type": "code",
   "execution_count": 83,
   "id": "ea0e97e5-74f9-4c63-b505-b1ae26fb3ebb",
   "metadata": {},
   "outputs": [
    {
     "name": "stdout",
     "output_type": "stream",
     "text": [
      "accuracy 0.92 (+/- 0.06) [decision tree]\n",
      "accuracy 0.95 (+/- 0.04) [knn]\n",
      "accuracy 0.95 (+/- 0.04) [svm]\n",
      "accuracy 0.95 (+/- 0.04) [ensemble]\n"
     ]
    }
   ],
   "source": [
    "clf4=clf4.fit(X,y)\n",
    "clf5=clf5.fit(X,y)\n",
    "clf6=clf6.fit(X,y)\n",
    "for clf,label in zip([clf4,clf5,clf6,eeclf],['decision tree','knn','svm','ensemble']):\n",
    "    scores=cross_val_score(clf,X,y,scoring='accuracy',cv=5)\n",
    "    print('accuracy %0.2f (+/- %0.2f) [%s]'%(scores.mean(),scores.std(),label))"
   ]
  },
  {
   "cell_type": "code",
   "execution_count": 84,
   "id": "97ed647c-1da4-4ccb-b7f2-53dbf1eb875f",
   "metadata": {},
   "outputs": [],
   "source": [
    "from sklearn.datasets import load_digits\n",
    "digits=load_digits()\n",
    "X=digits.data\n",
    "y=digits.target"
   ]
  },
  {
   "cell_type": "code",
   "execution_count": 85,
   "id": "4c557450-31bf-46b3-973e-316aabae7180",
   "metadata": {},
   "outputs": [
    {
     "name": "stdout",
     "output_type": "stream",
     "text": [
      "accuracy 0.91 (+/- 0.03) [lojistik]\n",
      "accuracy 0.93 (+/- 0.02) [random forest]\n",
      "accuracy 0.81 (+/- 0.03) [naive bayes]\n",
      "accuracy 0.92 (+/- 0.03) [ensemble]\n"
     ]
    }
   ],
   "source": [
    "clf1=LogisticRegression(random_state=1)\n",
    "clf2=RandomForestClassifier(n_estimators=50,random_state=1)\n",
    "clf3=GaussianNB()\n",
    "eclf=VotingClassifier(estimators=[('lr',clf1),('rf',clf2),('gnb',clf3)],voting='hard')\n",
    "for clf,label in zip([clf1,clf2,clf3,eclf],['lojistik','random forest','naive bayes','ensemble']):\n",
    "    scores=cross_val_score(clf,X,y,scoring='accuracy',cv=5)\n",
    "    print('accuracy %0.2f (+/- %0.2f) [%s]'%(scores.mean(),scores.std(),label))"
   ]
  },
  {
   "cell_type": "code",
   "execution_count": null,
   "id": "11fe77a8-335f-42f1-b258-87df53ad657c",
   "metadata": {},
   "outputs": [],
   "source": []
  }
 ],
 "metadata": {
  "kernelspec": {
   "display_name": "Python 3 (ipykernel)",
   "language": "python",
   "name": "python3"
  },
  "language_info": {
   "codemirror_mode": {
    "name": "ipython",
    "version": 3
   },
   "file_extension": ".py",
   "mimetype": "text/x-python",
   "name": "python",
   "nbconvert_exporter": "python",
   "pygments_lexer": "ipython3",
   "version": "3.12.4"
  }
 },
 "nbformat": 4,
 "nbformat_minor": 5
}
