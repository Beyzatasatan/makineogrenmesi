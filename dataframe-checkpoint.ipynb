{
 "cells": [
  {
   "cell_type": "code",
   "execution_count": 5,
   "id": "165770a5-e0a1-4400-a149-43765ef6450c",
   "metadata": {},
   "outputs": [
    {
     "data": {
      "text/html": [
       "<div>\n",
       "<style scoped>\n",
       "    .dataframe tbody tr th:only-of-type {\n",
       "        vertical-align: middle;\n",
       "    }\n",
       "\n",
       "    .dataframe tbody tr th {\n",
       "        vertical-align: top;\n",
       "    }\n",
       "\n",
       "    .dataframe thead th {\n",
       "        text-align: right;\n",
       "    }\n",
       "</style>\n",
       "<table border=\"1\" class=\"dataframe\">\n",
       "  <thead>\n",
       "    <tr style=\"text-align: right;\">\n",
       "      <th></th>\n",
       "      <th>ad</th>\n",
       "      <th>yas</th>\n",
       "      <th>şehir</th>\n",
       "    </tr>\n",
       "  </thead>\n",
       "  <tbody>\n",
       "    <tr>\n",
       "      <th>0</th>\n",
       "      <td>ali</td>\n",
       "      <td>25</td>\n",
       "      <td>ankara</td>\n",
       "    </tr>\n",
       "    <tr>\n",
       "      <th>1</th>\n",
       "      <td>veli</td>\n",
       "      <td>30</td>\n",
       "      <td>istanbul</td>\n",
       "    </tr>\n",
       "    <tr>\n",
       "      <th>2</th>\n",
       "      <td>ayşe</td>\n",
       "      <td>22</td>\n",
       "      <td>izmir</td>\n",
       "    </tr>\n",
       "    <tr>\n",
       "      <th>3</th>\n",
       "      <td>fatma</td>\n",
       "      <td>35</td>\n",
       "      <td>bursa</td>\n",
       "    </tr>\n",
       "  </tbody>\n",
       "</table>\n",
       "</div>"
      ],
      "text/plain": [
       "      ad  yas     şehir\n",
       "0    ali   25    ankara\n",
       "1   veli   30  istanbul\n",
       "2   ayşe   22     izmir\n",
       "3  fatma   35     bursa"
      ]
     },
     "execution_count": 5,
     "metadata": {},
     "output_type": "execute_result"
    }
   ],
   "source": [
    "import pandas as pd\n",
    "data={\n",
    "    \"ad\":[\"ali\",\"veli\",\"ayşe\",\"fatma\"],\n",
    "    \"yas\":[25,30,22,35],\n",
    "    \"şehir\":[\"ankara\",\"istanbul\",\"izmir\",\"bursa\"]\n",
    "}\n",
    "df=pd.DataFrame(data)\n",
    "df"
   ]
  },
  {
   "cell_type": "code",
   "execution_count": 9,
   "id": "79cadd12-2b7a-4bfa-b197-ae55c3094e1b",
   "metadata": {},
   "outputs": [],
   "source": [
    "#df=pd.read_csv(\"\")\n",
    "#print(df.head())"
   ]
  },
  {
   "cell_type": "code",
   "execution_count": null,
   "id": "e5b6a71f-e5f4-4511-ad3b-260aed608384",
   "metadata": {},
   "outputs": [],
   "source": [
    "import pandas as pd\n",
    "df=pd.read_excel(\"\")\n",
    "print(df.head())"
   ]
  },
  {
   "cell_type": "code",
   "execution_count": 13,
   "id": "5bf6e880-84d1-41ed-bda7-8a9ef86255d0",
   "metadata": {},
   "outputs": [
    {
     "name": "stdout",
     "output_type": "stream",
     "text": [
      "      ad     şehir\n",
      "0    ali    ankara\n",
      "1   veli  istanbul\n",
      "2   ayşe     izmir\n",
      "3  fatma     bursa\n"
     ]
    }
   ],
   "source": [
    "import pandas as pd\n",
    "data={\n",
    "    \"ad\":[\"ali\",\"veli\",\"ayşe\",\"fatma\"],\n",
    "    \"yas\":[25,30,22,35],\n",
    "    \"şehir\":[\"ankara\",\"istanbul\",\"izmir\",\"bursa\"]\n",
    "}\n",
    "df=pd.DataFrame(data)\n",
    "print(df[[\"ad\",\"şehir\"]])"
   ]
  },
  {
   "cell_type": "code",
   "execution_count": 19,
   "id": "ed0e96cf-3106-4fd4-9605-e93dd122bb6f",
   "metadata": {},
   "outputs": [
    {
     "name": "stdout",
     "output_type": "stream",
     "text": [
      "ad          ali\n",
      "yas          25\n",
      "şehir    ankara\n",
      "Name: 0, dtype: object\n",
      "*****\n",
      "     ad  yas     şehir\n",
      "0   ali   25    ankara\n",
      "1  veli   30  istanbul\n",
      "2  ayşe   22     izmir\n"
     ]
    }
   ],
   "source": [
    "import pandas as pd\n",
    "data={\n",
    "    \"ad\":[\"ali\",\"veli\",\"ayşe\",\"fatma\"],\n",
    "    \"yas\":[25,30,22,35],\n",
    "    \"şehir\":[\"ankara\",\"istanbul\",\"izmir\",\"bursa\"]\n",
    "}\n",
    "df=pd.DataFrame(data)\n",
    "print(df.iloc[0])\n",
    "print(\"*****\")\n",
    "print(df.iloc[0:3])"
   ]
  },
  {
   "cell_type": "code",
   "execution_count": 21,
   "id": "0827d1ee-00b6-4eed-8294-f3195991733d",
   "metadata": {},
   "outputs": [
    {
     "name": "stdout",
     "output_type": "stream",
     "text": [
      "      ad  yas     şehir\n",
      "1   veli   30  istanbul\n",
      "3  fatma   35     bursa\n",
      "*****\n"
     ]
    }
   ],
   "source": [
    "yass=df[df[\"yas\"]>25]\n",
    "print(yass)\n",
    "print(\"*****\")"
   ]
  },
  {
   "cell_type": "code",
   "execution_count": 25,
   "id": "0534af65-ea31-410e-a97c-0875979f97d2",
   "metadata": {},
   "outputs": [
    {
     "name": "stdout",
     "output_type": "stream",
     "text": [
      "    ad  yas   şehir\n",
      "0  ali   25  ankara\n",
      "*****\n"
     ]
    }
   ],
   "source": [
    "y=df[df[\"şehir\"]==\"ankara\"]\n",
    "print(y)\n",
    "print(\"*****\")"
   ]
  },
  {
   "cell_type": "code",
   "execution_count": null,
   "id": "60e66ce8-330d-41a9-b390-90480f057a2b",
   "metadata": {},
   "outputs": [],
   "source": []
  }
 ],
 "metadata": {
  "kernelspec": {
   "display_name": "Python 3 (ipykernel)",
   "language": "python",
   "name": "python3"
  },
  "language_info": {
   "codemirror_mode": {
    "name": "ipython",
    "version": 3
   },
   "file_extension": ".py",
   "mimetype": "text/x-python",
   "name": "python",
   "nbconvert_exporter": "python",
   "pygments_lexer": "ipython3",
   "version": "3.12.4"
  }
 },
 "nbformat": 4,
 "nbformat_minor": 5
}
